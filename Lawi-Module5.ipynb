{
 "cells": [
  {
   "cell_type": "markdown",
   "metadata": {},
   "source": [
    "<center>\n",
    "    <img src=\"https://cf-courses-data.s3.us.cloud-object-storage.appdomain.cloud/IBMDeveloperSkillsNetwork-DS0105EN-SkillsNetwork/labs/Module2/images/SN_web_lightmode.png\" width=\"300\" alt=\"cognitiveclass.ai logo\">\n",
    "</center>\n"
   ]
  },
  {
   "cell_type": "markdown",
   "metadata": {},
   "source": [
    "# Module 5 Notebook"
   ]
  },
  {
   "cell_type": "markdown",
   "metadata": {},
   "source": [
    "## Introduction"
   ]
  },
  {
   "cell_type": "markdown",
   "metadata": {},
   "source": [
    "data science languages.\n",
    "+ R\n",
    "+ SQL\n",
    "+ Java\n",
    "+ Julia\n",
    "+ Scala\n",
    "+ C/C++\n",
    "+ JavaScript\n",
    "+ Swift\n",
    "+ Go\n",
    "+ MATLAB\n",
    "+ SAS"
   ]
  },
  {
   "cell_type": "markdown",
   "metadata": {},
   "source": [
    "data science Libraries.\n",
    "+ NumPy\n",
    "+ Keras\n",
    "+ Pandas\n",
    "+ PyTorch\n",
    "+ SciPy\n",
    "+ Scikit-Learn\n",
    "+ TensorFlow\n",
    "+ Matplotlib\n",
    "+ Seaborntest"
   ]
  },
  {
   "cell_type": "markdown",
   "metadata": {},
   "source": [
    "|Data Science tools|\n",
    "|------------------|\n",
    "|Jupyter Notebooks|\n",
    "|Apache Spark|\n",
    "|TensoFlow|\n",
    "|SQL|\n",
    "|Apache hadoop|\n",
    "|Scikit-learn|\n"
   ]
  },
  {
   "cell_type": "markdown",
   "metadata": {},
   "source": [
    "Introducing arithmetic expression examples"
   ]
  },
  {
   "cell_type": "code",
   "execution_count": 4,
   "metadata": {},
   "outputs": [
    {
     "name": "stdout",
     "output_type": "stream",
     "text": [
      "3\n"
     ]
    }
   ],
   "source": [
    "a = 1\n",
    "b = 2\n",
    "print(a+b)"
   ]
  },
  {
   "cell_type": "code",
   "execution_count": 10,
   "metadata": {},
   "outputs": [
    {
     "name": "stdout",
     "output_type": "stream",
     "text": [
      "Adding result  6\n",
      "Multiplying result  8\n"
     ]
    }
   ],
   "source": [
    "# Add numbers\n",
    "c = 2\n",
    "d = 4\n",
    "print(\"Adding result \", c+d)\n",
    "# Multiply and adding numbers\n",
    "print(\"Multiplying result \", (3*4)+5)"
   ]
  },
  {
   "cell_type": "code",
   "execution_count": 15,
   "metadata": {},
   "outputs": [
    {
     "name": "stdout",
     "output_type": "stream",
     "text": [
      "Converting mins to hrs result  1.5\n"
     ]
    }
   ],
   "source": [
    "# convert minutes to hours\n",
    "minutes = 90\n",
    "print(\"Converting mins to hrs result \", minutes/60)"
   ]
  },
  {
   "cell_type": "markdown",
   "metadata": {},
   "source": [
    "# Objectives\n",
    "- Create notebook in Jupyter\n",
    "- Introduce data science language\n",
    "- Introduce data science libraries\n",
    "- Learn about arithmetic expressions"
   ]
  },
  {
   "cell_type": "markdown",
   "metadata": {},
   "source": [
    "# Author’s name\n",
    "Lawi Langat"
   ]
  },
  {
   "cell_type": "code",
   "execution_count": null,
   "metadata": {},
   "outputs": [],
   "source": []
  }
 ],
 "metadata": {
  "kernelspec": {
   "display_name": "Python 3 (ipykernel)",
   "language": "python",
   "name": "python3"
  },
  "language_info": {
   "codemirror_mode": {
    "name": "ipython",
    "version": 3
   },
   "file_extension": ".py",
   "mimetype": "text/x-python",
   "name": "python",
   "nbconvert_exporter": "python",
   "pygments_lexer": "ipython3",
   "version": "3.11.9"
  }
 },
 "nbformat": 4,
 "nbformat_minor": 4
}
